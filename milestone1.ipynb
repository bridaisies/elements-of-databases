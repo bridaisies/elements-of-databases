{
 "cells": [
  {
   "cell_type": "code",
   "execution_count": 1,
   "metadata": {},
   "outputs": [],
   "source": [
    "dataset_id = \"Hollywood\""
   ]
  },
  {
   "cell_type": "code",
   "execution_count": 2,
   "metadata": {},
   "outputs": [
    {
     "name": "stdout",
     "output_type": "stream",
     "text": [
      "BigQuery error in mk operation: Dataset 'trim-cistern-288221:Hollywood' already\n",
      "exists.\n"
     ]
    }
   ],
   "source": [
    "!bq --location=US mk --dataset {dataset_id}"
   ]
  },
  {
   "cell_type": "code",
   "execution_count": 3,
   "metadata": {},
   "outputs": [
    {
     "name": "stdout",
     "output_type": "stream",
     "text": [
      "Waiting on bqjob_r1e05cb1d489dd29d_000001759b934eca_1 ... (47s) Current status: DONE   \n"
     ]
    }
   ],
   "source": [
    "!bq --location=US load --field_delimiter=tab --autodetect --null_marker '\\N' --quote \"\" --allow_jagged_rows --allow_quoted_newlines --skip_leading_rows=1 --max_bad_records=10000\\\n",
    "--source_format=CSV {dataset_id}.Title_Basics 'gs://bhnk-milestone1-data/Hollywood/title.basics.tsv'"
   ]
  },
  {
   "cell_type": "code",
   "execution_count": 4,
   "metadata": {},
   "outputs": [
    {
     "name": "stdout",
     "output_type": "stream",
     "text": [
      "Waiting on bqjob_r6917ae3c9f9313e5_000001759b941265_1 ... (0s) Current status: DONE   \n",
      "BigQuery error in load operation: Error processing job 'trim-\n",
      "cistern-288221:bqjob_r6917ae3c9f9313e5_000001759b941265_1': Provided Schema does\n",
      "not match Table trim-cistern-288221:Hollywood.Name_Basics. Cannot add fields\n",
      "(field: string_field_0)\n",
      "Failure details:\n",
      "- It looks like you are appending to an existing table with\n",
      "autodetect enabled. Disabling autodetect may resolve this.\n"
     ]
    }
   ],
   "source": [
    "!bq --location=US load --field_delimiter=tab --autodetect --null_marker '\\N' --quote \"\" --allow_jagged_rows --allow_quoted_newlines --skip_leading_rows=1 --max_bad_records=10000\\\n",
    "--source_format=CSV {dataset_id}.Name_Basics 'gs://bhnk-milestone1-data/Hollywood/name.basics.tsv'"
   ]
  },
  {
   "cell_type": "code",
   "execution_count": 5,
   "metadata": {},
   "outputs": [
    {
     "name": "stdout",
     "output_type": "stream",
     "text": [
      "Waiting on bqjob_r25d9a9e367a568ff_000001759b941c16_1 ... (64s) Current status: DONE   \n"
     ]
    }
   ],
   "source": [
    "!bq --location=US load --field_delimiter=tab --autodetect --null_marker '\\N' --quote \"\" --allow_jagged_rows --allow_quoted_newlines --skip_leading_rows=1 --max_bad_records=10000\\\n",
    "--source_format=CSV {dataset_id}.Title_Akas 'gs://bhnk-milestone1-data/Hollywood/title.akas.tsv'"
   ]
  },
  {
   "cell_type": "code",
   "execution_count": 6,
   "metadata": {},
   "outputs": [
    {
     "name": "stdout",
     "output_type": "stream",
     "text": [
      "Waiting on bqjob_r17b31d277980c019_000001759b95224a_1 ... (64s) Current status: DONE   \n"
     ]
    }
   ],
   "source": [
    "!bq --location=US load --field_delimiter=tab --autodetect --null_marker '\\N' --quote \"\" --allow_jagged_rows --allow_quoted_newlines --skip_leading_rows=1 --max_bad_records=10000\\\n",
    "--source_format=CSV {dataset_id}.Title_Principals 'gs://bhnk-milestone1-data/Hollywood/title.principals.tsv'"
   ]
  },
  {
   "cell_type": "code",
   "execution_count": 7,
   "metadata": {},
   "outputs": [
    {
     "name": "stdout",
     "output_type": "stream",
     "text": [
      "Waiting on bqjob_r11b98b912f63e57b_000001759b962895_1 ... (0s) Current status: DONE   \n",
      "BigQuery error in load operation: Error processing job 'trim-\n",
      "cistern-288221:bqjob_r11b98b912f63e57b_000001759b962895_1': Provided Schema does\n",
      "not match Table trim-cistern-288221:Hollywood.Title_Episode. Cannot add fields\n",
      "(field: string_field_0)\n",
      "Failure details:\n",
      "- It looks like you are appending to an existing table with\n",
      "autodetect enabled. Disabling autodetect may resolve this.\n"
     ]
    }
   ],
   "source": [
    "!bq --location=US load --field_delimiter=tab --autodetect --null_marker '\\N' --quote \"\" --allow_jagged_rows --allow_quoted_newlines --skip_leading_rows=1 --max_bad_records=10000\\\n",
    "--source_format=CSV {dataset_id}.Title_Episode 'gs://bhnk-milestone1-data/Hollywood/title.episode.tsv'"
   ]
  },
  {
   "cell_type": "code",
   "execution_count": 8,
   "metadata": {},
   "outputs": [
    {
     "name": "stdout",
     "output_type": "stream",
     "text": [
      "Waiting on bqjob_r13877e8b654343d0_000001759b963260_1 ... (7s) Current status: DONE   \n"
     ]
    }
   ],
   "source": [
    "!bq --location=US load --field_delimiter=tab --autodetect --null_marker '\\N' --quote \"\" --allow_jagged_rows --allow_quoted_newlines --skip_leading_rows=1 --max_bad_records=10000\\\n",
    "--source_format=CSV {dataset_id}.Title_Ratings 'gs://bhnk-milestone1-data/Hollywood/title.ratings.tsv'"
   ]
  },
  {
   "cell_type": "code",
   "execution_count": 9,
   "metadata": {},
   "outputs": [
    {
     "name": "stdout",
     "output_type": "stream",
     "text": [
      "Waiting on bqjob_r6dae227c38b7d001_000001759b9658c6_1 ... (84s) Current status: DONE   \n"
     ]
    }
   ],
   "source": [
    "!bq --location=US load --field_delimiter=tab --null_marker '\\N' --quote \"\" --allow_jagged_rows --allow_quoted_newlines --skip_leading_rows=1 --max_bad_records=10000\\\n",
    "--source_format=CSV {dataset_id}.Basics 'gs://bhnk-milestone1-data/Hollywood/title.crew.tsv'"
   ]
  },
  {
   "cell_type": "code",
   "execution_count": 10,
   "metadata": {},
   "outputs": [
    {
     "name": "stdout",
     "output_type": "stream",
     "text": [
      "Waiting on bqjob_r42b19dedfab913e3_000001759b97ad9a_1 ... (47s) Current status: DONE   \n"
     ]
    }
   ],
   "source": [
    "!bq --location=US load --field_delimiter=tab --null_marker '\\N' --quote \"\" --allow_jagged_rows --allow_quoted_newlines --skip_leading_rows=1 --max_bad_records=10000\\\n",
    "--source_format=CSV {dataset_id}.Title_Crew 'gs://bhnk-milestone1-data/Hollywood/title.crew.tsv'"
   ]
  },
  {
   "cell_type": "code",
   "execution_count": 11,
   "metadata": {},
   "outputs": [
    {
     "name": "stdout",
     "output_type": "stream",
     "text": [
      "BigQuery error in mk operation: Dataset 'trim-cistern-288221:Bollywood' already\n",
      "exists.\n"
     ]
    }
   ],
   "source": [
    "!bq --location=US mk --dataset {\"Bollywood\"}"
   ]
  },
  {
   "cell_type": "code",
   "execution_count": 12,
   "metadata": {},
   "outputs": [
    {
     "name": "stdout",
     "output_type": "stream",
     "text": [
      "Waiting on bqjob_r2a2d61d701bfd308_000001759b987577_1 ... (1s) Current status: DONE   \n"
     ]
    }
   ],
   "source": [
    "!bq --location=US load --autodetect --skip_leading_rows=1 --max_bad_records=10000\\\n",
    "--source_format=CSV {\"Bollywood\"}.Bolly_actors 'gs://bhnk-milestone1-data/Bollywood/bollywood-actors.csv'"
   ]
  },
  {
   "cell_type": "code",
   "execution_count": 13,
   "metadata": {},
   "outputs": [
    {
     "name": "stdout",
     "output_type": "stream",
     "text": [
      "Waiting on bqjob_r553c15c88dc466b0_000001759b988345_1 ... (1s) Current status: DONE   \n"
     ]
    }
   ],
   "source": [
    "!bq --location=US load --autodetect --skip_leading_rows=1 --max_bad_records=10000\\\n",
    "--source_format=CSV {\"Bollywood\"}.Bolly_actress 'gs://bhnk-milestone1-data/Bollywood/bollywood-actress.csv'"
   ]
  },
  {
   "cell_type": "code",
   "execution_count": 14,
   "metadata": {},
   "outputs": [
    {
     "name": "stdout",
     "output_type": "stream",
     "text": [
      "Waiting on bqjob_r78da3f18d7213996_000001759b98912f_1 ... (2s) Current status: DONE   \n"
     ]
    }
   ],
   "source": [
    "!bq --location=US load --autodetect --skip_leading_rows=1 --max_bad_records=10000\\\n",
    "--source_format=CSV {\"Bollywood\"}.Bolly_movies 'gs://bhnk-milestone1-data/Bollywood/bollywood.csv'"
   ]
  },
  {
   "cell_type": "code",
   "execution_count": 15,
   "metadata": {},
   "outputs": [],
   "source": [
    "#queries for hollywood"
   ]
  },
  {
   "cell_type": "code",
   "execution_count": 16,
   "metadata": {},
   "outputs": [
    {
     "data": {
      "text/html": [
       "<div>\n",
       "<style scoped>\n",
       "    .dataframe tbody tr th:only-of-type {\n",
       "        vertical-align: middle;\n",
       "    }\n",
       "\n",
       "    .dataframe tbody tr th {\n",
       "        vertical-align: top;\n",
       "    }\n",
       "\n",
       "    .dataframe thead th {\n",
       "        text-align: right;\n",
       "    }\n",
       "</style>\n",
       "<table border=\"1\" class=\"dataframe\">\n",
       "  <thead>\n",
       "    <tr style=\"text-align: right;\">\n",
       "      <th></th>\n",
       "      <th>primaryTitle</th>\n",
       "      <th>averageRating</th>\n",
       "    </tr>\n",
       "  </thead>\n",
       "  <tbody>\n",
       "    <tr>\n",
       "      <th>0</th>\n",
       "      <td>The 2nd Commitment to Life AIDS Project Benefit</td>\n",
       "      <td>10.0</td>\n",
       "    </tr>\n",
       "    <tr>\n",
       "      <th>1</th>\n",
       "      <td>The 2nd Commitment to Life AIDS Project Benefit</td>\n",
       "      <td>10.0</td>\n",
       "    </tr>\n",
       "    <tr>\n",
       "      <th>2</th>\n",
       "      <td>An Evening with Max Wall</td>\n",
       "      <td>10.0</td>\n",
       "    </tr>\n",
       "    <tr>\n",
       "      <th>3</th>\n",
       "      <td>The 2nd Commitment to Life AIDS Project Benefit</td>\n",
       "      <td>10.0</td>\n",
       "    </tr>\n",
       "    <tr>\n",
       "      <th>4</th>\n",
       "      <td>The 2nd Commitment to Life AIDS Project Benefit</td>\n",
       "      <td>10.0</td>\n",
       "    </tr>\n",
       "    <tr>\n",
       "      <th>5</th>\n",
       "      <td>The 2nd Commitment to Life AIDS Project Benefit</td>\n",
       "      <td>10.0</td>\n",
       "    </tr>\n",
       "    <tr>\n",
       "      <th>6</th>\n",
       "      <td>The 2nd Commitment to Life AIDS Project Benefit</td>\n",
       "      <td>10.0</td>\n",
       "    </tr>\n",
       "    <tr>\n",
       "      <th>7</th>\n",
       "      <td>The 2nd Commitment to Life AIDS Project Benefit</td>\n",
       "      <td>10.0</td>\n",
       "    </tr>\n",
       "    <tr>\n",
       "      <th>8</th>\n",
       "      <td>The 2nd Commitment to Life AIDS Project Benefit</td>\n",
       "      <td>10.0</td>\n",
       "    </tr>\n",
       "    <tr>\n",
       "      <th>9</th>\n",
       "      <td>The 2nd Commitment to Life AIDS Project Benefit</td>\n",
       "      <td>10.0</td>\n",
       "    </tr>\n",
       "  </tbody>\n",
       "</table>\n",
       "</div>"
      ],
      "text/plain": [
       "                                      primaryTitle  averageRating\n",
       "0  The 2nd Commitment to Life AIDS Project Benefit           10.0\n",
       "1  The 2nd Commitment to Life AIDS Project Benefit           10.0\n",
       "2                         An Evening with Max Wall           10.0\n",
       "3  The 2nd Commitment to Life AIDS Project Benefit           10.0\n",
       "4  The 2nd Commitment to Life AIDS Project Benefit           10.0\n",
       "5  The 2nd Commitment to Life AIDS Project Benefit           10.0\n",
       "6  The 2nd Commitment to Life AIDS Project Benefit           10.0\n",
       "7  The 2nd Commitment to Life AIDS Project Benefit           10.0\n",
       "8  The 2nd Commitment to Life AIDS Project Benefit           10.0\n",
       "9  The 2nd Commitment to Life AIDS Project Benefit           10.0"
      ]
     },
     "execution_count": 16,
     "metadata": {},
     "output_type": "execute_result"
    }
   ],
   "source": [
    "%%bigquery \n",
    "SELECT primaryTitle, averageRating\n",
    "FROM Hollywood.Title_Basics as b\n",
    "JOIN Hollywood.Title_Ratings as r\n",
    "ON b.tconst = r.tconst\n",
    "ORDER BY averageRating DESC\n",
    "LIMIT 10;"
   ]
  },
  {
   "cell_type": "code",
   "execution_count": 17,
   "metadata": {},
   "outputs": [
    {
     "data": {
      "text/html": [
       "<div>\n",
       "<style scoped>\n",
       "    .dataframe tbody tr th:only-of-type {\n",
       "        vertical-align: middle;\n",
       "    }\n",
       "\n",
       "    .dataframe tbody tr th {\n",
       "        vertical-align: top;\n",
       "    }\n",
       "\n",
       "    .dataframe thead th {\n",
       "        text-align: right;\n",
       "    }\n",
       "</style>\n",
       "<table border=\"1\" class=\"dataframe\">\n",
       "  <thead>\n",
       "    <tr style=\"text-align: right;\">\n",
       "      <th></th>\n",
       "      <th>primaryName</th>\n",
       "      <th>primaryProfession</th>\n",
       "    </tr>\n",
       "  </thead>\n",
       "  <tbody>\n",
       "    <tr>\n",
       "      <th>0</th>\n",
       "      <td>!Gubi Tietie</td>\n",
       "      <td>actor</td>\n",
       "    </tr>\n",
       "    <tr>\n",
       "      <th>1</th>\n",
       "      <td>!Gubi Tietie</td>\n",
       "      <td>actor</td>\n",
       "    </tr>\n",
       "    <tr>\n",
       "      <th>2</th>\n",
       "      <td>!Gubi Tietie</td>\n",
       "      <td>actor</td>\n",
       "    </tr>\n",
       "    <tr>\n",
       "      <th>3</th>\n",
       "      <td>!Gubi Tietie</td>\n",
       "      <td>actor</td>\n",
       "    </tr>\n",
       "    <tr>\n",
       "      <th>4</th>\n",
       "      <td>$2 Tony</td>\n",
       "      <td>actor</td>\n",
       "    </tr>\n",
       "  </tbody>\n",
       "</table>\n",
       "</div>"
      ],
      "text/plain": [
       "    primaryName primaryProfession\n",
       "0  !Gubi Tietie             actor\n",
       "1  !Gubi Tietie             actor\n",
       "2  !Gubi Tietie             actor\n",
       "3  !Gubi Tietie             actor\n",
       "4       $2 Tony             actor"
      ]
     },
     "execution_count": 17,
     "metadata": {},
     "output_type": "execute_result"
    }
   ],
   "source": [
    "%%bigquery \n",
    "SELECT primaryName, primaryProfession\n",
    "FROM Hollywood.Name_Basics\n",
    "WHERE primaryProfession = 'actor'\n",
    "ORDER BY primaryName\n",
    "LIMIT 5;"
   ]
  },
  {
   "cell_type": "code",
   "execution_count": 18,
   "metadata": {},
   "outputs": [
    {
     "data": {
      "text/html": [
       "<div>\n",
       "<style scoped>\n",
       "    .dataframe tbody tr th:only-of-type {\n",
       "        vertical-align: middle;\n",
       "    }\n",
       "\n",
       "    .dataframe tbody tr th {\n",
       "        vertical-align: top;\n",
       "    }\n",
       "\n",
       "    .dataframe thead th {\n",
       "        text-align: right;\n",
       "    }\n",
       "</style>\n",
       "<table border=\"1\" class=\"dataframe\">\n",
       "  <thead>\n",
       "    <tr style=\"text-align: right;\">\n",
       "      <th></th>\n",
       "      <th>startYear</th>\n",
       "      <th>primaryTitle</th>\n",
       "    </tr>\n",
       "  </thead>\n",
       "  <tbody>\n",
       "    <tr>\n",
       "      <th>0</th>\n",
       "      <td>2018</td>\n",
       "      <td>Storie di donne Dejavù Presente- Passato</td>\n",
       "    </tr>\n",
       "    <tr>\n",
       "      <th>1</th>\n",
       "      <td>2018</td>\n",
       "      <td>Aflevering 14</td>\n",
       "    </tr>\n",
       "    <tr>\n",
       "      <th>2</th>\n",
       "      <td>2018</td>\n",
       "      <td>Thrill of the Chase</td>\n",
       "    </tr>\n",
       "    <tr>\n",
       "      <th>3</th>\n",
       "      <td>2018</td>\n",
       "      <td>Killer Reunion Bro!</td>\n",
       "    </tr>\n",
       "    <tr>\n",
       "      <th>4</th>\n",
       "      <td>2018</td>\n",
       "      <td>Deportivo Alavés vs Real Betis Balompié</td>\n",
       "    </tr>\n",
       "    <tr>\n",
       "      <th>5</th>\n",
       "      <td>2018</td>\n",
       "      <td>Semeynyy biznes. Chast 1</td>\n",
       "    </tr>\n",
       "    <tr>\n",
       "      <th>6</th>\n",
       "      <td>2018</td>\n",
       "      <td>Before He Appears</td>\n",
       "    </tr>\n",
       "    <tr>\n",
       "      <th>7</th>\n",
       "      <td>2018</td>\n",
       "      <td>2018: Heat Four - Round One</td>\n",
       "    </tr>\n",
       "    <tr>\n",
       "      <th>8</th>\n",
       "      <td>2018</td>\n",
       "      <td>Episode #1.3</td>\n",
       "    </tr>\n",
       "    <tr>\n",
       "      <th>9</th>\n",
       "      <td>2018</td>\n",
       "      <td>Charlotte</td>\n",
       "    </tr>\n",
       "  </tbody>\n",
       "</table>\n",
       "</div>"
      ],
      "text/plain": [
       "   startYear                              primaryTitle\n",
       "0       2018  Storie di donne Dejavù Presente- Passato\n",
       "1       2018                             Aflevering 14\n",
       "2       2018                       Thrill of the Chase\n",
       "3       2018                       Killer Reunion Bro!\n",
       "4       2018   Deportivo Alavés vs Real Betis Balompié\n",
       "5       2018                  Semeynyy biznes. Chast 1\n",
       "6       2018                         Before He Appears\n",
       "7       2018               2018: Heat Four - Round One\n",
       "8       2018                              Episode #1.3\n",
       "9       2018                                 Charlotte"
      ]
     },
     "execution_count": 18,
     "metadata": {},
     "output_type": "execute_result"
    }
   ],
   "source": [
    "%%bigquery \n",
    "SELECT startYear, primaryTitle\n",
    "FROM Hollywood.Title_Basics\n",
    "GROUP BY startYear, primaryTitle\n",
    "HAVING startYear = 2018\n",
    "LIMIT 10;"
   ]
  },
  {
   "cell_type": "code",
   "execution_count": 19,
   "metadata": {},
   "outputs": [
    {
     "data": {
      "text/html": [
       "<div>\n",
       "<style scoped>\n",
       "    .dataframe tbody tr th:only-of-type {\n",
       "        vertical-align: middle;\n",
       "    }\n",
       "\n",
       "    .dataframe tbody tr th {\n",
       "        vertical-align: top;\n",
       "    }\n",
       "\n",
       "    .dataframe thead th {\n",
       "        text-align: right;\n",
       "    }\n",
       "</style>\n",
       "<table border=\"1\" class=\"dataframe\">\n",
       "  <thead>\n",
       "    <tr style=\"text-align: right;\">\n",
       "      <th></th>\n",
       "      <th>primaryName</th>\n",
       "      <th>category</th>\n",
       "    </tr>\n",
       "  </thead>\n",
       "  <tbody>\n",
       "    <tr>\n",
       "      <th>0</th>\n",
       "      <td>!'aru Ikhuisi Piet Berendse</td>\n",
       "      <td>self</td>\n",
       "    </tr>\n",
       "    <tr>\n",
       "      <th>1</th>\n",
       "      <td>!'aru Ikhuisi Piet Berendse</td>\n",
       "      <td>self</td>\n",
       "    </tr>\n",
       "    <tr>\n",
       "      <th>2</th>\n",
       "      <td>!'aru Ikhuisi Piet Berendse</td>\n",
       "      <td>self</td>\n",
       "    </tr>\n",
       "    <tr>\n",
       "      <th>3</th>\n",
       "      <td>!'aru Ikhuisi Piet Berendse</td>\n",
       "      <td>self</td>\n",
       "    </tr>\n",
       "    <tr>\n",
       "      <th>4</th>\n",
       "      <td>!'aru Ikhuisi Piet Berendse</td>\n",
       "      <td>self</td>\n",
       "    </tr>\n",
       "    <tr>\n",
       "      <th>5</th>\n",
       "      <td>!'aru Ikhuisi Piet Berendse</td>\n",
       "      <td>self</td>\n",
       "    </tr>\n",
       "    <tr>\n",
       "      <th>6</th>\n",
       "      <td>!'aru Ikhuisi Piet Berendse</td>\n",
       "      <td>self</td>\n",
       "    </tr>\n",
       "    <tr>\n",
       "      <th>7</th>\n",
       "      <td>!'aru Ikhuisi Piet Berendse</td>\n",
       "      <td>self</td>\n",
       "    </tr>\n",
       "    <tr>\n",
       "      <th>8</th>\n",
       "      <td>!'aru Ikhuisi Piet Berendse</td>\n",
       "      <td>self</td>\n",
       "    </tr>\n",
       "    <tr>\n",
       "      <th>9</th>\n",
       "      <td>!'aru Ikhuisi Piet Berendse</td>\n",
       "      <td>self</td>\n",
       "    </tr>\n",
       "  </tbody>\n",
       "</table>\n",
       "</div>"
      ],
      "text/plain": [
       "                   primaryName category\n",
       "0  !'aru Ikhuisi Piet Berendse     self\n",
       "1  !'aru Ikhuisi Piet Berendse     self\n",
       "2  !'aru Ikhuisi Piet Berendse     self\n",
       "3  !'aru Ikhuisi Piet Berendse     self\n",
       "4  !'aru Ikhuisi Piet Berendse     self\n",
       "5  !'aru Ikhuisi Piet Berendse     self\n",
       "6  !'aru Ikhuisi Piet Berendse     self\n",
       "7  !'aru Ikhuisi Piet Berendse     self\n",
       "8  !'aru Ikhuisi Piet Berendse     self\n",
       "9  !'aru Ikhuisi Piet Berendse     self"
      ]
     },
     "execution_count": 19,
     "metadata": {},
     "output_type": "execute_result"
    }
   ],
   "source": [
    "%%bigquery \n",
    "SELECT primaryName, category\n",
    "FROM Hollywood.Title_Principals as p\n",
    "JOIN Hollywood.Name_Basics as n\n",
    "ON p.nconst = n.nconst\n",
    "ORDER BY primaryName\n",
    "LIMIT 10;"
   ]
  },
  {
   "cell_type": "code",
   "execution_count": 20,
   "metadata": {},
   "outputs": [
    {
     "data": {
      "text/html": [
       "<div>\n",
       "<style scoped>\n",
       "    .dataframe tbody tr th:only-of-type {\n",
       "        vertical-align: middle;\n",
       "    }\n",
       "\n",
       "    .dataframe tbody tr th {\n",
       "        vertical-align: top;\n",
       "    }\n",
       "\n",
       "    .dataframe thead th {\n",
       "        text-align: right;\n",
       "    }\n",
       "</style>\n",
       "<table border=\"1\" class=\"dataframe\">\n",
       "  <thead>\n",
       "    <tr style=\"text-align: right;\">\n",
       "      <th></th>\n",
       "      <th>primaryName</th>\n",
       "      <th>deathYear</th>\n",
       "    </tr>\n",
       "  </thead>\n",
       "  <tbody>\n",
       "    <tr>\n",
       "      <th>0</th>\n",
       "      <td>Viktor Cholnoky</td>\n",
       "      <td>0005</td>\n",
       "    </tr>\n",
       "    <tr>\n",
       "      <th>1</th>\n",
       "      <td>Viktor Cholnoky</td>\n",
       "      <td>0005</td>\n",
       "    </tr>\n",
       "    <tr>\n",
       "      <th>2</th>\n",
       "      <td>Viktor Cholnoky</td>\n",
       "      <td>0005</td>\n",
       "    </tr>\n",
       "    <tr>\n",
       "      <th>3</th>\n",
       "      <td>Viktor Cholnoky</td>\n",
       "      <td>0005</td>\n",
       "    </tr>\n",
       "    <tr>\n",
       "      <th>4</th>\n",
       "      <td>Ovid</td>\n",
       "      <td>0017</td>\n",
       "    </tr>\n",
       "    <tr>\n",
       "      <th>5</th>\n",
       "      <td>Ovid</td>\n",
       "      <td>0017</td>\n",
       "    </tr>\n",
       "    <tr>\n",
       "      <th>6</th>\n",
       "      <td>Titus Livius</td>\n",
       "      <td>0017</td>\n",
       "    </tr>\n",
       "    <tr>\n",
       "      <th>7</th>\n",
       "      <td>Titus Livius</td>\n",
       "      <td>0017</td>\n",
       "    </tr>\n",
       "    <tr>\n",
       "      <th>8</th>\n",
       "      <td>Titus Livius</td>\n",
       "      <td>0017</td>\n",
       "    </tr>\n",
       "    <tr>\n",
       "      <th>9</th>\n",
       "      <td>Ovid</td>\n",
       "      <td>0017</td>\n",
       "    </tr>\n",
       "  </tbody>\n",
       "</table>\n",
       "</div>"
      ],
      "text/plain": [
       "       primaryName deathYear\n",
       "0  Viktor Cholnoky      0005\n",
       "1  Viktor Cholnoky      0005\n",
       "2  Viktor Cholnoky      0005\n",
       "3  Viktor Cholnoky      0005\n",
       "4             Ovid      0017\n",
       "5             Ovid      0017\n",
       "6     Titus Livius      0017\n",
       "7     Titus Livius      0017\n",
       "8     Titus Livius      0017\n",
       "9             Ovid      0017"
      ]
     },
     "execution_count": 20,
     "metadata": {},
     "output_type": "execute_result"
    }
   ],
   "source": [
    "%%bigquery \n",
    "SELECT primaryName, deathYear\n",
    "FROM Hollywood.Name_Basics\n",
    "WHERE deathYear < '0100'\n",
    "ORDER BY deathYear\n",
    "LIMIT 10;"
   ]
  },
  {
   "cell_type": "code",
   "execution_count": 21,
   "metadata": {},
   "outputs": [],
   "source": [
    "#queries for bollywood"
   ]
  },
  {
   "cell_type": "code",
   "execution_count": 22,
   "metadata": {},
   "outputs": [
    {
     "data": {
      "text/html": [
       "<div>\n",
       "<style scoped>\n",
       "    .dataframe tbody tr th:only-of-type {\n",
       "        vertical-align: middle;\n",
       "    }\n",
       "\n",
       "    .dataframe tbody tr th {\n",
       "        vertical-align: top;\n",
       "    }\n",
       "\n",
       "    .dataframe thead th {\n",
       "        text-align: right;\n",
       "    }\n",
       "</style>\n",
       "<table border=\"1\" class=\"dataframe\">\n",
       "  <thead>\n",
       "    <tr style=\"text-align: right;\">\n",
       "      <th></th>\n",
       "      <th>Name</th>\n",
       "      <th>Height_in_cm_</th>\n",
       "    </tr>\n",
       "  </thead>\n",
       "  <tbody>\n",
       "    <tr>\n",
       "      <th>0</th>\n",
       "      <td>Abhay Deol</td>\n",
       "      <td>180</td>\n",
       "    </tr>\n",
       "    <tr>\n",
       "      <th>1</th>\n",
       "      <td>Abhay Deol</td>\n",
       "      <td>180</td>\n",
       "    </tr>\n",
       "    <tr>\n",
       "      <th>2</th>\n",
       "      <td>Abhay Deol</td>\n",
       "      <td>180</td>\n",
       "    </tr>\n",
       "    <tr>\n",
       "      <th>3</th>\n",
       "      <td>Abhay Deol</td>\n",
       "      <td>180</td>\n",
       "    </tr>\n",
       "    <tr>\n",
       "      <th>4</th>\n",
       "      <td>Abhay Deol</td>\n",
       "      <td>180</td>\n",
       "    </tr>\n",
       "  </tbody>\n",
       "</table>\n",
       "</div>"
      ],
      "text/plain": [
       "         Name  Height_in_cm_\n",
       "0  Abhay Deol            180\n",
       "1  Abhay Deol            180\n",
       "2  Abhay Deol            180\n",
       "3  Abhay Deol            180\n",
       "4  Abhay Deol            180"
      ]
     },
     "execution_count": 22,
     "metadata": {},
     "output_type": "execute_result"
    }
   ],
   "source": [
    "%%bigquery \n",
    "select Name, Height_in_cm_ from Bollywood.Bolly_actors\n",
    "where Height_in_cm_ = 180\n",
    "order by Name\n",
    "limit 5"
   ]
  },
  {
   "cell_type": "code",
   "execution_count": 23,
   "metadata": {},
   "outputs": [
    {
     "data": {
      "text/html": [
       "<div>\n",
       "<style scoped>\n",
       "    .dataframe tbody tr th:only-of-type {\n",
       "        vertical-align: middle;\n",
       "    }\n",
       "\n",
       "    .dataframe tbody tr th {\n",
       "        vertical-align: top;\n",
       "    }\n",
       "\n",
       "    .dataframe thead th {\n",
       "        text-align: right;\n",
       "    }\n",
       "</style>\n",
       "<table border=\"1\" class=\"dataframe\">\n",
       "  <thead>\n",
       "    <tr style=\"text-align: right;\">\n",
       "      <th></th>\n",
       "      <th>Name</th>\n",
       "      <th>Height_in_cm_</th>\n",
       "    </tr>\n",
       "  </thead>\n",
       "  <tbody>\n",
       "    <tr>\n",
       "      <th>0</th>\n",
       "      <td>Dimple Kapadia</td>\n",
       "      <td>159</td>\n",
       "    </tr>\n",
       "    <tr>\n",
       "      <th>1</th>\n",
       "      <td>Dimple Kapadia</td>\n",
       "      <td>159</td>\n",
       "    </tr>\n",
       "    <tr>\n",
       "      <th>2</th>\n",
       "      <td>Dimple Kapadia</td>\n",
       "      <td>159</td>\n",
       "    </tr>\n",
       "    <tr>\n",
       "      <th>3</th>\n",
       "      <td>Dimple Kapadia</td>\n",
       "      <td>159</td>\n",
       "    </tr>\n",
       "    <tr>\n",
       "      <th>4</th>\n",
       "      <td>Dimple Kapadia</td>\n",
       "      <td>159</td>\n",
       "    </tr>\n",
       "  </tbody>\n",
       "</table>\n",
       "</div>"
      ],
      "text/plain": [
       "             Name  Height_in_cm_\n",
       "0  Dimple Kapadia            159\n",
       "1  Dimple Kapadia            159\n",
       "2  Dimple Kapadia            159\n",
       "3  Dimple Kapadia            159\n",
       "4  Dimple Kapadia            159"
      ]
     },
     "execution_count": 23,
     "metadata": {},
     "output_type": "execute_result"
    }
   ],
   "source": [
    "%%bigquery \n",
    "select Name, Height_in_cm_ from Bollywood.Bolly_actress\n",
    "where Name like 'D%'\n",
    "order by Height_in_cm_\n",
    "limit 5;"
   ]
  },
  {
   "cell_type": "code",
   "execution_count": 24,
   "metadata": {},
   "outputs": [
    {
     "data": {
      "text/html": [
       "<div>\n",
       "<style scoped>\n",
       "    .dataframe tbody tr th:only-of-type {\n",
       "        vertical-align: middle;\n",
       "    }\n",
       "\n",
       "    .dataframe tbody tr th {\n",
       "        vertical-align: top;\n",
       "    }\n",
       "\n",
       "    .dataframe thead th {\n",
       "        text-align: right;\n",
       "    }\n",
       "</style>\n",
       "<table border=\"1\" class=\"dataframe\">\n",
       "  <thead>\n",
       "    <tr style=\"text-align: right;\">\n",
       "      <th></th>\n",
       "      <th>Director</th>\n",
       "      <th>Title</th>\n",
       "    </tr>\n",
       "  </thead>\n",
       "  <tbody>\n",
       "    <tr>\n",
       "      <th>0</th>\n",
       "      <td>Mani Ratnam</td>\n",
       "      <td>Bombay</td>\n",
       "    </tr>\n",
       "    <tr>\n",
       "      <th>1</th>\n",
       "      <td>Mani Ratnam</td>\n",
       "      <td>Dil Se..</td>\n",
       "    </tr>\n",
       "    <tr>\n",
       "      <th>2</th>\n",
       "      <td>Mani Ratnam</td>\n",
       "      <td>Guru</td>\n",
       "    </tr>\n",
       "    <tr>\n",
       "      <th>3</th>\n",
       "      <td>Mani Ratnam</td>\n",
       "      <td>Raavan</td>\n",
       "    </tr>\n",
       "    <tr>\n",
       "      <th>4</th>\n",
       "      <td>Mani Ratnam</td>\n",
       "      <td>Thalapathi</td>\n",
       "    </tr>\n",
       "    <tr>\n",
       "      <th>5</th>\n",
       "      <td>Mani Ratnam</td>\n",
       "      <td>Yuva</td>\n",
       "    </tr>\n",
       "  </tbody>\n",
       "</table>\n",
       "</div>"
      ],
      "text/plain": [
       "      Director       Title\n",
       "0  Mani Ratnam      Bombay\n",
       "1  Mani Ratnam    Dil Se..\n",
       "2  Mani Ratnam        Guru\n",
       "3  Mani Ratnam      Raavan\n",
       "4  Mani Ratnam  Thalapathi\n",
       "5  Mani Ratnam        Yuva"
      ]
     },
     "execution_count": 24,
     "metadata": {},
     "output_type": "execute_result"
    }
   ],
   "source": [
    "%%bigquery \n",
    "SELECT Director, Title\n",
    "FROM Bollywood.Bolly_movies\n",
    "WHERE Director = 'Mani Ratnam'\n",
    "GROUP BY Director, Title\n",
    "ORDER BY Title;"
   ]
  },
  {
   "cell_type": "code",
   "execution_count": 25,
   "metadata": {},
   "outputs": [
    {
     "data": {
      "text/html": [
       "<div>\n",
       "<style scoped>\n",
       "    .dataframe tbody tr th:only-of-type {\n",
       "        vertical-align: middle;\n",
       "    }\n",
       "\n",
       "    .dataframe tbody tr th {\n",
       "        vertical-align: top;\n",
       "    }\n",
       "\n",
       "    .dataframe thead th {\n",
       "        text-align: right;\n",
       "    }\n",
       "</style>\n",
       "<table border=\"1\" class=\"dataframe\">\n",
       "  <thead>\n",
       "    <tr style=\"text-align: right;\">\n",
       "      <th></th>\n",
       "      <th>Director</th>\n",
       "      <th>Title</th>\n",
       "      <th>Genre</th>\n",
       "    </tr>\n",
       "  </thead>\n",
       "  <tbody>\n",
       "    <tr>\n",
       "      <th>0</th>\n",
       "      <td>Baburao Painter</td>\n",
       "      <td>Kalyan Khajina a.k.a. The Treasures of Khajina</td>\n",
       "      <td>crime,thriller</td>\n",
       "    </tr>\n",
       "    <tr>\n",
       "      <th>1</th>\n",
       "      <td>Manilal Joshi</td>\n",
       "      <td>Mojili Mumbai a.k.a. Slaves Of Luxury</td>\n",
       "      <td>crime,thriller</td>\n",
       "    </tr>\n",
       "    <tr>\n",
       "      <th>2</th>\n",
       "      <td>Guru Dutt</td>\n",
       "      <td>Baazi</td>\n",
       "      <td>crime,thriller</td>\n",
       "    </tr>\n",
       "    <tr>\n",
       "      <th>3</th>\n",
       "      <td>Nanabhai Bhatt</td>\n",
       "      <td>Ustad</td>\n",
       "      <td>crime,thriller</td>\n",
       "    </tr>\n",
       "    <tr>\n",
       "      <th>4</th>\n",
       "      <td>O. P. Ralhan</td>\n",
       "      <td>Mujrim</td>\n",
       "      <td>crime,thriller</td>\n",
       "    </tr>\n",
       "    <tr>\n",
       "      <th>5</th>\n",
       "      <td>Ravindra Dave</td>\n",
       "      <td>Aankh Micholi</td>\n",
       "      <td>crime,thriller</td>\n",
       "    </tr>\n",
       "    <tr>\n",
       "      <th>6</th>\n",
       "      <td>Ram Gopal Varma</td>\n",
       "      <td>Drohi</td>\n",
       "      <td>crime,thriller</td>\n",
       "    </tr>\n",
       "    <tr>\n",
       "      <th>7</th>\n",
       "      <td>Sanjay Bhatia</td>\n",
       "      <td>99.9 FM (film)</td>\n",
       "      <td>crime,thriller</td>\n",
       "    </tr>\n",
       "    <tr>\n",
       "      <th>8</th>\n",
       "      <td>Abbas Mustan</td>\n",
       "      <td>Race</td>\n",
       "      <td>crime,thriller</td>\n",
       "    </tr>\n",
       "    <tr>\n",
       "      <th>9</th>\n",
       "      <td>Sanjay Gadhvi</td>\n",
       "      <td>Kidnap</td>\n",
       "      <td>crime,thriller</td>\n",
       "    </tr>\n",
       "  </tbody>\n",
       "</table>\n",
       "</div>"
      ],
      "text/plain": [
       "          Director                                           Title  \\\n",
       "0  Baburao Painter  Kalyan Khajina a.k.a. The Treasures of Khajina   \n",
       "1    Manilal Joshi           Mojili Mumbai a.k.a. Slaves Of Luxury   \n",
       "2        Guru Dutt                                           Baazi   \n",
       "3   Nanabhai Bhatt                                           Ustad   \n",
       "4     O. P. Ralhan                                          Mujrim   \n",
       "5    Ravindra Dave                                   Aankh Micholi   \n",
       "6  Ram Gopal Varma                                           Drohi   \n",
       "7    Sanjay Bhatia                                  99.9 FM (film)   \n",
       "8     Abbas Mustan                                            Race   \n",
       "9    Sanjay Gadhvi                                          Kidnap   \n",
       "\n",
       "            Genre  \n",
       "0  crime,thriller  \n",
       "1  crime,thriller  \n",
       "2  crime,thriller  \n",
       "3  crime,thriller  \n",
       "4  crime,thriller  \n",
       "5  crime,thriller  \n",
       "6  crime,thriller  \n",
       "7  crime,thriller  \n",
       "8  crime,thriller  \n",
       "9  crime,thriller  "
      ]
     },
     "execution_count": 25,
     "metadata": {},
     "output_type": "execute_result"
    }
   ],
   "source": [
    "%%bigquery \n",
    "SELECT Director, Title, Genre\n",
    "FROM Bollywood.Bolly_movies\n",
    "WHERE Genre = 'crime,thriller'\n",
    "GROUP BY Title,  Director, Genre\n",
    "LIMIT 10;"
   ]
  },
  {
   "cell_type": "code",
   "execution_count": 26,
   "metadata": {},
   "outputs": [
    {
     "data": {
      "text/html": [
       "<div>\n",
       "<style scoped>\n",
       "    .dataframe tbody tr th:only-of-type {\n",
       "        vertical-align: middle;\n",
       "    }\n",
       "\n",
       "    .dataframe tbody tr th {\n",
       "        vertical-align: top;\n",
       "    }\n",
       "\n",
       "    .dataframe thead th {\n",
       "        text-align: right;\n",
       "    }\n",
       "</style>\n",
       "<table border=\"1\" class=\"dataframe\">\n",
       "  <thead>\n",
       "    <tr style=\"text-align: right;\">\n",
       "      <th></th>\n",
       "      <th>Director</th>\n",
       "      <th>Height_in_cm_</th>\n",
       "    </tr>\n",
       "  </thead>\n",
       "  <tbody>\n",
       "    <tr>\n",
       "      <th>0</th>\n",
       "      <td>Dara Singh</td>\n",
       "      <td>188</td>\n",
       "    </tr>\n",
       "    <tr>\n",
       "      <th>1</th>\n",
       "      <td>Dara Singh</td>\n",
       "      <td>188</td>\n",
       "    </tr>\n",
       "    <tr>\n",
       "      <th>2</th>\n",
       "      <td>Dara Singh</td>\n",
       "      <td>188</td>\n",
       "    </tr>\n",
       "    <tr>\n",
       "      <th>3</th>\n",
       "      <td>Dara Singh</td>\n",
       "      <td>188</td>\n",
       "    </tr>\n",
       "    <tr>\n",
       "      <th>4</th>\n",
       "      <td>Dara Singh</td>\n",
       "      <td>188</td>\n",
       "    </tr>\n",
       "    <tr>\n",
       "      <th>5</th>\n",
       "      <td>Dara Singh</td>\n",
       "      <td>188</td>\n",
       "    </tr>\n",
       "    <tr>\n",
       "      <th>6</th>\n",
       "      <td>Dara Singh</td>\n",
       "      <td>188</td>\n",
       "    </tr>\n",
       "    <tr>\n",
       "      <th>7</th>\n",
       "      <td>Dara Singh</td>\n",
       "      <td>188</td>\n",
       "    </tr>\n",
       "    <tr>\n",
       "      <th>8</th>\n",
       "      <td>Dara Singh</td>\n",
       "      <td>188</td>\n",
       "    </tr>\n",
       "    <tr>\n",
       "      <th>9</th>\n",
       "      <td>Dara Singh</td>\n",
       "      <td>188</td>\n",
       "    </tr>\n",
       "  </tbody>\n",
       "</table>\n",
       "</div>"
      ],
      "text/plain": [
       "     Director  Height_in_cm_\n",
       "0  Dara Singh            188\n",
       "1  Dara Singh            188\n",
       "2  Dara Singh            188\n",
       "3  Dara Singh            188\n",
       "4  Dara Singh            188\n",
       "5  Dara Singh            188\n",
       "6  Dara Singh            188\n",
       "7  Dara Singh            188\n",
       "8  Dara Singh            188\n",
       "9  Dara Singh            188"
      ]
     },
     "execution_count": 26,
     "metadata": {},
     "output_type": "execute_result"
    }
   ],
   "source": [
    "%%bigquery \n",
    "SELECT Director, Height_in_cm_\n",
    "FROM Bollywood.Bolly_movies as m\n",
    "JOIN Bollywood.Bolly_actors as a\n",
    "ON m.Director = a.Name\n",
    "ORDER BY Height_in_cm_ DESC\n",
    "LIMIT 10;"
   ]
  },
  {
   "cell_type": "code",
   "execution_count": 27,
   "metadata": {},
   "outputs": [],
   "source": [
    "#queries that join both datasets"
   ]
  },
  {
   "cell_type": "code",
   "execution_count": 28,
   "metadata": {},
   "outputs": [
    {
     "data": {
      "text/html": [
       "<div>\n",
       "<style scoped>\n",
       "    .dataframe tbody tr th:only-of-type {\n",
       "        vertical-align: middle;\n",
       "    }\n",
       "\n",
       "    .dataframe tbody tr th {\n",
       "        vertical-align: top;\n",
       "    }\n",
       "\n",
       "    .dataframe thead th {\n",
       "        text-align: right;\n",
       "    }\n",
       "</style>\n",
       "<table border=\"1\" class=\"dataframe\">\n",
       "  <thead>\n",
       "    <tr style=\"text-align: right;\">\n",
       "      <th></th>\n",
       "      <th>primaryName</th>\n",
       "      <th>primaryProfession</th>\n",
       "    </tr>\n",
       "  </thead>\n",
       "  <tbody>\n",
       "    <tr>\n",
       "      <th>0</th>\n",
       "      <td>Imran Khan</td>\n",
       "      <td>actor</td>\n",
       "    </tr>\n",
       "    <tr>\n",
       "      <th>1</th>\n",
       "      <td>Shashi Kapoor</td>\n",
       "      <td>actor</td>\n",
       "    </tr>\n",
       "    <tr>\n",
       "      <th>2</th>\n",
       "      <td>Manoj Kumar</td>\n",
       "      <td>actor</td>\n",
       "    </tr>\n",
       "    <tr>\n",
       "      <th>3</th>\n",
       "      <td>Sohail Khan</td>\n",
       "      <td>actor</td>\n",
       "    </tr>\n",
       "    <tr>\n",
       "      <th>4</th>\n",
       "      <td>Tiger Shroff</td>\n",
       "      <td>actor</td>\n",
       "    </tr>\n",
       "    <tr>\n",
       "      <th>5</th>\n",
       "      <td>Ali Fazal</td>\n",
       "      <td>actor</td>\n",
       "    </tr>\n",
       "    <tr>\n",
       "      <th>6</th>\n",
       "      <td>Jeetendra</td>\n",
       "      <td>actor</td>\n",
       "    </tr>\n",
       "    <tr>\n",
       "      <th>7</th>\n",
       "      <td>Akshay Kumar</td>\n",
       "      <td>actor</td>\n",
       "    </tr>\n",
       "    <tr>\n",
       "      <th>8</th>\n",
       "      <td>Vidyut Jammwal</td>\n",
       "      <td>actor</td>\n",
       "    </tr>\n",
       "    <tr>\n",
       "      <th>9</th>\n",
       "      <td>John Abraham</td>\n",
       "      <td>actor</td>\n",
       "    </tr>\n",
       "  </tbody>\n",
       "</table>\n",
       "</div>"
      ],
      "text/plain": [
       "      primaryName primaryProfession\n",
       "0      Imran Khan             actor\n",
       "1   Shashi Kapoor             actor\n",
       "2     Manoj Kumar             actor\n",
       "3     Sohail Khan             actor\n",
       "4    Tiger Shroff             actor\n",
       "5       Ali Fazal             actor\n",
       "6       Jeetendra             actor\n",
       "7    Akshay Kumar             actor\n",
       "8  Vidyut Jammwal             actor\n",
       "9    John Abraham             actor"
      ]
     },
     "execution_count": 28,
     "metadata": {},
     "output_type": "execute_result"
    }
   ],
   "source": [
    "%%bigquery\n",
    "SELECT DISTINCT primaryName, primaryProfession\n",
    "FROM Bollywood.Bolly_actors as m\n",
    "INNER JOIN Hollywood.Name_Basics as a\n",
    "ON m.Name = a.primaryName\n",
    "WHERE primaryProfession = \"actor\"\n",
    "LIMIT 10;"
   ]
  },
  {
   "cell_type": "code",
   "execution_count": 29,
   "metadata": {},
   "outputs": [
    {
     "data": {
      "text/html": [
       "<div>\n",
       "<style scoped>\n",
       "    .dataframe tbody tr th:only-of-type {\n",
       "        vertical-align: middle;\n",
       "    }\n",
       "\n",
       "    .dataframe tbody tr th {\n",
       "        vertical-align: top;\n",
       "    }\n",
       "\n",
       "    .dataframe thead th {\n",
       "        text-align: right;\n",
       "    }\n",
       "</style>\n",
       "<table border=\"1\" class=\"dataframe\">\n",
       "  <thead>\n",
       "    <tr style=\"text-align: right;\">\n",
       "      <th></th>\n",
       "      <th>Title</th>\n",
       "      <th>titleType</th>\n",
       "    </tr>\n",
       "  </thead>\n",
       "  <tbody>\n",
       "    <tr>\n",
       "      <th>0</th>\n",
       "      <td>Caravan</td>\n",
       "      <td>movie</td>\n",
       "    </tr>\n",
       "    <tr>\n",
       "      <th>1</th>\n",
       "      <td>Maha Chor</td>\n",
       "      <td>movie</td>\n",
       "    </tr>\n",
       "    <tr>\n",
       "      <th>2</th>\n",
       "      <td>Insaaf Main Karoonga</td>\n",
       "      <td>movie</td>\n",
       "    </tr>\n",
       "    <tr>\n",
       "      <th>3</th>\n",
       "      <td>Sardar</td>\n",
       "      <td>movie</td>\n",
       "    </tr>\n",
       "    <tr>\n",
       "      <th>4</th>\n",
       "      <td>Bazaar</td>\n",
       "      <td>movie</td>\n",
       "    </tr>\n",
       "    <tr>\n",
       "      <th>5</th>\n",
       "      <td>Jantar Mantar</td>\n",
       "      <td>movie</td>\n",
       "    </tr>\n",
       "    <tr>\n",
       "      <th>6</th>\n",
       "      <td>Daulat</td>\n",
       "      <td>movie</td>\n",
       "    </tr>\n",
       "    <tr>\n",
       "      <th>7</th>\n",
       "      <td>Thokar</td>\n",
       "      <td>movie</td>\n",
       "    </tr>\n",
       "    <tr>\n",
       "      <th>8</th>\n",
       "      <td>Sofia</td>\n",
       "      <td>movie</td>\n",
       "    </tr>\n",
       "    <tr>\n",
       "      <th>9</th>\n",
       "      <td>Chorus</td>\n",
       "      <td>movie</td>\n",
       "    </tr>\n",
       "  </tbody>\n",
       "</table>\n",
       "</div>"
      ],
      "text/plain": [
       "                  Title titleType\n",
       "0               Caravan     movie\n",
       "1             Maha Chor     movie\n",
       "2  Insaaf Main Karoonga     movie\n",
       "3                Sardar     movie\n",
       "4                Bazaar     movie\n",
       "5         Jantar Mantar     movie\n",
       "6                Daulat     movie\n",
       "7                Thokar     movie\n",
       "8                 Sofia     movie\n",
       "9                Chorus     movie"
      ]
     },
     "execution_count": 29,
     "metadata": {},
     "output_type": "execute_result"
    }
   ],
   "source": [
    "%%bigquery\n",
    "SELECT DISTINCT Title, titleType\n",
    "FROM Bollywood.Bolly_movies as m\n",
    "INNER JOIN Hollywood.Title_Basics as a\n",
    "ON m.Title = a.primaryTitle\n",
    "WHERE titleType = \"movie\"\n",
    "LIMIT 10;"
   ]
  }
 ],
 "metadata": {
  "environment": {
   "name": "common-cpu.m55",
   "type": "gcloud",
   "uri": "gcr.io/deeplearning-platform-release/base-cpu:m55"
  },
  "kernelspec": {
   "display_name": "Python 3",
   "language": "python",
   "name": "python3"
  },
  "language_info": {
   "codemirror_mode": {
    "name": "ipython",
    "version": 3
   },
   "file_extension": ".py",
   "mimetype": "text/x-python",
   "name": "python",
   "nbconvert_exporter": "python",
   "pygments_lexer": "ipython3",
   "version": "3.7.8"
  }
 },
 "nbformat": 4,
 "nbformat_minor": 4
}
