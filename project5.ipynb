{
 "cells": [
  {
   "cell_type": "code",
   "execution_count": 1,
   "metadata": {},
   "outputs": [
    {
     "name": "stdout",
     "output_type": "stream",
     "text": [
      "309370\n"
     ]
    }
   ],
   "source": [
    "# select count(*) from products;\n",
    "!mongo open_food --quiet --eval 'db.products.count()'"
   ]
  },
  {
   "cell_type": "code",
   "execution_count": 2,
   "metadata": {},
   "outputs": [
    {
     "name": "stdout",
     "output_type": "stream",
     "text": [
      "{\n",
      "\t\"_id\" : \"0000790100027\",\n",
      "\t\"product_name\" : \"Sobe, fruit strip snacks, mango, pineapple\"\n",
      "}\n",
      "{ \"_id\" : \"0000790400066\", \"product_name\" : \"Welch's, freeze-dried grapes\" }\n",
      "{\n",
      "\t\"_id\" : \"0000790410003\",\n",
      "\t\"product_name\" : \"Welch's, dried cranberries, concord grape\"\n",
      "}\n",
      "{\n",
      "\t\"_id\" : \"0000790430018\",\n",
      "\t\"product_name\" : \"Welch's, pb&j trail mix, grape\"\n",
      "}\n",
      "{ \"_id\" : \"0000790440024\", \"product_name\" : \"Welch's, golden apple chips\" }\n",
      "{\n",
      "\t\"_id\" : \"0000790400301\",\n",
      "\t\"product_name\" : \"Welch's, freeze-dried apple slices\"\n",
      "}\n",
      "{\n",
      "\t\"_id\" : \"0000790410065\",\n",
      "\t\"product_name\" : \"Welch's, wholesome & delicious dried mangos\"\n",
      "}\n",
      "{\n",
      "\t\"_id\" : \"0008346800032\",\n",
      "\t\"product_name\" : \"Slimfast, 100 Calorie Snack Drizzled Crisps, Cinnamon Bun Swirl\"\n",
      "}\n",
      "{\n",
      "\t\"_id\" : \"0008346802531\",\n",
      "\t\"product_name\" : \"Slim Fast, Drizzled Crisps Snack Bars, S'Mores\"\n",
      "}\n",
      "{ \"_id\" : \"0008346800018\", \"product_name\" : \"Snack bites\" }\n",
      "{ \"_id\" : \"0008346800087\", \"product_name\" : \"Snack bites\" }\n",
      "{\n",
      "\t\"_id\" : \"0008346802036\",\n",
      "\t\"product_name\" : \"Slimfast, Baked Chips, Mesquite Bbq\"\n",
      "}\n",
      "{\n",
      "\t\"_id\" : \"0008725050102\",\n",
      "\t\"product_name\" : \"Long Grove Confectionery Co., St. Pat's Mini Pretzels\"\n",
      "}\n",
      "{ \"_id\" : \"0008725030135\", \"product_name\" : \"Snow balls pretzels\" }\n",
      "{\n",
      "\t\"_id\" : \"0000417011002\",\n",
      "\t\"product_name\" : \"Ritter sport, knusperflakes mit knusprigen cornflakes\"\n",
      "}\n",
      "{\n",
      "\t\"_id\" : \"0000790430070\",\n",
      "\t\"product_name\" : \"Welch's, pb&j trail mix, grape\"\n",
      "}\n",
      "{ \"_id\" : \"0000790440055\", \"product_name\" : \"Green apple chips\" }\n",
      "{ \"_id\" : \"0000946111020\", \"product_name\" : \"Honey coated banana slices\" }\n",
      "{\n",
      "\t\"_id\" : \"0000946111099\",\n",
      "\t\"product_name\" : \"Freeze-dried sliced strawberries\"\n",
      "}\n",
      "{ \"_id\" : \"0000946111501\", \"product_name\" : \"Freeze dried pineapple chunks\" }\n",
      "Type \"it\" for more\n"
     ]
    }
   ],
   "source": [
    "#  select product_name from products where categories = 'Snacks, Sweet snacks, Confectioneries, Candies, Chews';\n",
    "!mongo open_food --quiet --eval 'db.products.find({$or: [{categories: \"Snacks\"}, {categories: \"Sweet snacks\"}, {categories: \"Confectioneries\"}, {categories: \"Candies\"},{categories: \"Chews\"}]}, {product_name:1}).pretty()'"
   ]
  },
  {
   "cell_type": "code",
   "execution_count": 3,
   "metadata": {},
   "outputs": [
    {
     "name": "stdout",
     "output_type": "stream",
     "text": [
      "{\n",
      "\t\"_id\" : \"0852909003299\",\n",
      "\t\"product_name\" : \"Almondmilk\",\n",
      "\t\"code\" : \"0852909003299\"\n",
      "}\n",
      "{\n",
      "\t\"_id\" : \"0840423102055\",\n",
      "\t\"code\" : \"0840423102055\",\n",
      "\t\"product_name\" : \"Garlic wine pasta with chicken meatballs with whole wheat rotini, white beans, and greens, cooked in avocado oil, and topped with parmesan and mozzarella, garlic wine pasta with chicken meatballs\"\n",
      "}\n"
     ]
    }
   ],
   "source": [
    "# select code, product_name from products where last_modified_t >= 1601856000;\n",
    "!mongo open_food --quiet --eval 'db.products.find({last_modified_t: {$gte: 1601856000}}, {code:1, product_name:1}).pretty()'"
   ]
  },
  {
   "cell_type": "code",
   "execution_count": 4,
   "metadata": {},
   "outputs": [
    {
     "name": "stdout",
     "output_type": "stream",
     "text": [
      "115\n"
     ]
    }
   ],
   "source": [
    "# select count(*) from products where packaging = 'Plastic';\n",
    "!mongo open_food --quiet --eval 'db.products.count({packaging: \"Plastic\"})'"
   ]
  },
  {
   "cell_type": "code",
   "execution_count": 5,
   "metadata": {},
   "outputs": [
    {
     "name": "stdout",
     "output_type": "stream",
     "text": [
      "{\n",
      "\t\"_id\" : \"0099482455859\",\n",
      "\t\"creator\" : \"usda-ndb-import\",\n",
      "\t\"brands\" : \"365 Everyday Value,Whole Foods Market  Inc.\",\n",
      "\t\"code\" : \"0099482455859\",\n",
      "\t\"product_name\" : \"Whole Wheat Bread\"\n",
      "}\n"
     ]
    }
   ],
   "source": [
    "# select code, creator, product_name, brands from products where manufacturing_places = 'Austin, TX' and stores = 'Whole Foods';\n",
    "!mongo open_food --quiet --eval 'db.products.find({$and: [{manufacturing_places: \"Austin, TX\"}, {stores: \"Whole Foods\"}]}, {code:1, creator:1, product_name:1, brands:1}).pretty()'"
   ]
  },
  {
   "cell_type": "code",
   "execution_count": 6,
   "metadata": {},
   "outputs": [
    {
     "name": "stdout",
     "output_type": "stream",
     "text": [
      "{\n",
      "\t\"_id\" : \"0297274306956\",\n",
      "\t\"brands\" : \"Trader Joe's\",\n",
      "\t\"creator\" : \"sidney13\",\n",
      "\t\"code\" : \"0297274306956\",\n",
      "\t\"product_name\" : \"1,000 Day Gouda Cheese\"\n",
      "}\n",
      "{\n",
      "\t\"_id\" : \"00048927\",\n",
      "\t\"product_name\" : \"100% Pure Maple Syrup\",\n",
      "\t\"creator\" : \"usda-ndb-import\",\n",
      "\t\"brands\" : \"Trader Joe's,  Learning Horizons\",\n",
      "\t\"code\" : \"00048927\"\n",
      "}\n",
      "{\n",
      "\t\"_id\" : \"00293730\",\n",
      "\t\"brands\" : \"Trader Joe's\",\n",
      "\t\"creator\" : \"usda-ndb-import\",\n",
      "\t\"code\" : \"00293730\",\n",
      "\t\"product_name\" : \"100% Pure Maple Syrup\"\n",
      "}\n",
      "{\n",
      "\t\"_id\" : \"00417471\",\n",
      "\t\"code\" : \"00417471\",\n",
      "\t\"brands\" : \"Trader Joe's\",\n",
      "\t\"creator\" : \"usda-ndb-import\",\n",
      "\t\"product_name\" : \"100% Red Tart Cherry Juice\"\n",
      "}\n",
      "{\n",
      "\t\"_id\" : \"00987141\",\n",
      "\t\"creator\" : \"tacinte\",\n",
      "\t\"brands\" : \"Trader Joe's\",\n",
      "\t\"code\" : \"00987141\",\n",
      "\t\"product_name\" : \"100% Whole Grain Fiber Bread\"\n",
      "}\n",
      "{\n",
      "\t\"_id\" : \"00091466\",\n",
      "\t\"product_name\" : \"100% desert mesquite honey\",\n",
      "\t\"code\" : \"00091466\",\n",
      "\t\"creator\" : \"tacinte\",\n",
      "\t\"brands\" : \"Trader Joe's\"\n",
      "}\n",
      "{\n",
      "\t\"_id\" : \"00437899\",\n",
      "\t\"brands\" : \"Trader Joe's\",\n",
      "\t\"creator\" : \"kiliweb\",\n",
      "\t\"code\" : \"00437899\",\n",
      "\t\"product_name\" : \"100% grapefruit juice\"\n",
      "}\n"
     ]
    }
   ],
   "source": [
    "# select code, creator, product_name, brands from products where brands = \"Trader Joe's\" and product_name is not null order by product_name limit 7;\n",
    "!mongo open_food --quiet --eval 'db.products.find({$and: [{brands: /Trader Joe\\x27s/}, {product_name: {$ne:null}}, {product_name: {$ne:\"\"}}]}, {code:1, creator:1, product_name:1, brands:1}).sort({product_name:1}).limit(7).pretty()'"
   ]
  },
  {
   "cell_type": "code",
   "execution_count": 7,
   "metadata": {},
   "outputs": [
    {
     "name": "stdout",
     "output_type": "stream",
     "text": [
      "{\n",
      "\t\"_id\" : \"03444504\",\n",
      "\t\"brands\" : \"Reese's\",\n",
      "\t\"code\" : \"03444504\",\n",
      "\t\"product_name\" : \"Candy In A Crunchy Shell\"\n",
      "}\n",
      "{\n",
      "\t\"_id\" : \"03445202\",\n",
      "\t\"brands\" : \"Reese's\",\n",
      "\t\"code\" : \"03445202\",\n",
      "\t\"product_name\" : \"Candy Pieces In Crunchy Shell\"\n",
      "}\n",
      "{\n",
      "\t\"_id\" : \"0040000294801\",\n",
      "\t\"product_name\" : \"Chocolate candies\",\n",
      "\t\"code\" : \"0040000294801\",\n",
      "\t\"brands\" : \"M&M's\"\n",
      "}\n",
      "{\n",
      "\t\"_id\" : \"0040000294764\",\n",
      "\t\"code\" : \"0040000294764\",\n",
      "\t\"brands\" : \"M&M's\",\n",
      "\t\"product_name\" : \"Chocolate candies, milk chocolate\"\n",
      "}\n",
      "{\n",
      "\t\"_id\" : \"0034000451227\",\n",
      "\t\"product_name\" : \"Clusters\",\n",
      "\t\"code\" : \"0034000451227\",\n",
      "\t\"brands\" : \"Reese's\"\n",
      "}\n",
      "{\n",
      "\t\"_id\" : \"0732346293333\",\n",
      "\t\"product_name\" : \"Cookie Mix\",\n",
      "\t\"brands\" : \"Reese's\",\n",
      "\t\"code\" : \"0732346293333\"\n",
      "}\n",
      "{\n",
      "\t\"_id\" : \"0034000292325\",\n",
      "\t\"brands\" : \"Reese's\",\n",
      "\t\"code\" : \"0034000292325\",\n",
      "\t\"product_name\" : \"Crispy Wafer Bar Sticks, Milk Chocolate, Peanut Butter\"\n",
      "}\n",
      "{\n",
      "\t\"_id\" : \"0034000202003\",\n",
      "\t\"brands\" : \"Reese's\",\n",
      "\t\"code\" : \"0034000202003\",\n",
      "\t\"product_name\" : \"Crispy Wafers\"\n",
      "}\n"
     ]
    }
   ],
   "source": [
    "# select code, product_name, brands from products where brands in (\"M&M's\", \"Reese's\", \"Mars Chocolate, Mars\") order by product_name limit 8;\n",
    "# NEED TO CHECK IF RETURNING MARS CHOC - don't think it is??\n",
    "!mongo open_food --quiet --eval 'db.products.find({brands: {$in: [/M&M\\x27s/, /Reese\\x27s/, \"Mars Chocolate, Mars\"]}}, {code:1, product_name:1, brands:1}).sort({product_name:1}).limit(8).pretty()'"
   ]
  },
  {
   "cell_type": "code",
   "execution_count": 8,
   "metadata": {},
   "outputs": [],
   "source": [
    "# Insert a new document into the products collection. The document must have at least 5 fields. Read back the document you just created.\n",
    "new_doc = '{\"_id\": \"0000\", \"creator\": \"cs327e\", \"brands\": \"Kellogs\", \"code\": \"0000\", \"product_name\": \"Pops\"}'"
   ]
  },
  {
   "cell_type": "code",
   "execution_count": 9,
   "metadata": {},
   "outputs": [
    {
     "name": "stdout",
     "output_type": "stream",
     "text": [
      "WriteResult({ \"nInserted\" : 1 })\n"
     ]
    }
   ],
   "source": [
    "!mongo open_food --quiet --eval 'db.products.insert({new_doc})'"
   ]
  },
  {
   "cell_type": "code",
   "execution_count": 10,
   "metadata": {},
   "outputs": [
    {
     "name": "stdout",
     "output_type": "stream",
     "text": [
      "{ \"_id\" : \"0000\", \"creator\" : \"cs327e\", \"brands\" : \"Kellogs\", \"code\" : \"0000\", \"product_name\" : \"Pops\" }\n"
     ]
    }
   ],
   "source": [
    "!mongo open_food --quiet --eval 'db.products.find({code: \"0000\"})'"
   ]
  },
  {
   "cell_type": "code",
   "execution_count": 11,
   "metadata": {},
   "outputs": [
    {
     "name": "stdout",
     "output_type": "stream",
     "text": [
      "WriteResult({ \"nMatched\" : 1, \"nUpserted\" : 0, \"nModified\" : 1 })\n"
     ]
    }
   ],
   "source": [
    "# Update the document you created and then read it back\n",
    "!mongo open_food --quiet --eval 'db.products.update({\"_id\": \"0000\"}, {\"creator\": \"cs327e\", \"brands\": \"Kellogs\", \"code\": \"0000\", \"product_name\": \"Corn Pops Cereal\"})'"
   ]
  },
  {
   "cell_type": "code",
   "execution_count": 12,
   "metadata": {},
   "outputs": [
    {
     "name": "stdout",
     "output_type": "stream",
     "text": [
      "{ \"_id\" : \"0000\", \"creator\" : \"cs327e\", \"brands\" : \"Kellogs\", \"code\" : \"0000\", \"product_name\" : \"Corn Pops Cereal\" }\n"
     ]
    }
   ],
   "source": [
    "!mongo open_food --quiet --eval 'db.products.find({code: \"0000\"})'"
   ]
  },
  {
   "cell_type": "code",
   "execution_count": 13,
   "metadata": {},
   "outputs": [
    {
     "name": "stdout",
     "output_type": "stream",
     "text": [
      "WriteResult({ \"nRemoved\" : 1 })\n"
     ]
    }
   ],
   "source": [
    "# Delete the document from the collection\n",
    "!mongo open_food --quiet --eval 'db.products.remove({code: \"0000\"})'"
   ]
  },
  {
   "cell_type": "code",
   "execution_count": 14,
   "metadata": {},
   "outputs": [],
   "source": [
    "!mongo open_food --quiet --eval 'db.products.find({code: \"0000\"})'"
   ]
  }
 ],
 "metadata": {
  "environment": {
   "name": "common-cpu.m55",
   "type": "gcloud",
   "uri": "gcr.io/deeplearning-platform-release/base-cpu:m55"
  },
  "kernelspec": {
   "display_name": "Python 3",
   "language": "python",
   "name": "python3"
  },
  "language_info": {
   "codemirror_mode": {
    "name": "ipython",
    "version": 3
   },
   "file_extension": ".py",
   "mimetype": "text/x-python",
   "name": "python",
   "nbconvert_exporter": "python",
   "pygments_lexer": "ipython3",
   "version": "3.7.8"
  }
 },
 "nbformat": 4,
 "nbformat_minor": 4
}
